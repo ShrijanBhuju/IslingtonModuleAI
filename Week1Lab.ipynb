{
  "nbformat": 4,
  "nbformat_minor": 0,
  "metadata": {
    "colab": {
      "provenance": [],
      "authorship_tag": "ABX9TyNPVqv4h8N1kxArLUEIQpBf",
      "include_colab_link": true
    },
    "kernelspec": {
      "name": "python3",
      "display_name": "Python 3"
    },
    "language_info": {
      "name": "python"
    }
  },
  "cells": [
    {
      "cell_type": "markdown",
      "metadata": {
        "id": "view-in-github",
        "colab_type": "text"
      },
      "source": [
        "<a href=\"https://colab.research.google.com/github/ShrijanBhuju/IslingtonModuleAI/blob/main/Week1Lab.ipynb\" target=\"_parent\"><img src=\"https://colab.research.google.com/assets/colab-badge.svg\" alt=\"Open In Colab\"/></a>"
      ]
    },
    {
      "cell_type": "code",
      "execution_count": null,
      "metadata": {
        "colab": {
          "base_uri": "https://localhost:8080/"
        },
        "id": "kdUb5FFlzTjy",
        "outputId": "8e5d46f4-1337-48d5-e3f8-e05cce00cd89"
      },
      "outputs": [
        {
          "output_type": "stream",
          "name": "stdout",
          "text": [
            "Updated wieghts:\n",
            "w1: 1.0027\n",
            "w2: 3.0009\n"
          ]
        }
      ],
      "source": [
        "x1 = 3\n",
        "w1 = 1\n",
        "w2 = 3\n",
        "target = 12\n",
        "eta = 0.0001\n",
        "\n",
        "stack = []\n",
        "\n",
        "z_h = x1 * w1\n",
        "a_h = max(0, z_h)\n",
        "stack.append(a_h)\n",
        "\n",
        "z_o = a_h * w2\n",
        "a_o = z_o\n",
        "stack.append(a_o)\n",
        "\n",
        "e = stack.pop() - target\n",
        "adj1 = e * stack.pop()\n",
        "adj2 = e*w2*x1\n",
        "\n",
        "w2 = w2 - eta * adj1\n",
        "w1 = w1 - eta * adj2\n",
        "\n",
        "print(\"Updated wieghts:\")\n",
        "print(\"w1:\", w1)\n",
        "print(\"w2:\", w2)"
      ]
    },
    {
      "cell_type": "code",
      "source": [
        "import heapq\n",
        "experience = [\n",
        "    (('action1'), 0.5),\n",
        "    (('action2'), 1.0),\n",
        "    (('action3'), 0.2)\n",
        "]\n",
        "priority_queue = []\n",
        "def add_experience(priority, experience):\n",
        "    heapq.heappush(priority_queue, (-priority, experience))\n",
        "\n",
        "for exp, reward in experience:\n",
        "    add_experience(reward, exp)\n",
        "print(priority_queue)"
      ],
      "metadata": {
        "colab": {
          "base_uri": "https://localhost:8080/"
        },
        "id": "Ob3kxx-x3bIH",
        "outputId": "e45c417b-9fc8-4453-9205-b9d24c66416a"
      },
      "execution_count": null,
      "outputs": [
        {
          "output_type": "stream",
          "name": "stdout",
          "text": [
            "[(-1.0, 'action2'), (-0.5, 'action1'), (-0.2, 'action3')]\n"
          ]
        }
      ]
    }
  ]
}